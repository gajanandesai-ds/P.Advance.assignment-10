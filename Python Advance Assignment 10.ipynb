{
 "cells": [
  {
   "cell_type": "raw",
   "id": "16173881",
   "metadata": {},
   "source": [
    "Q1. What is the difference between __getattr__ and __getattribute__?"
   ]
  },
  {
   "cell_type": "raw",
   "id": "f9eb351f",
   "metadata": {},
   "source": [
    "ans: getattribute: is used to retrieve an attribute from an instance.getattr: is executed as the last resource when attribute is not found in an object."
   ]
  },
  {
   "cell_type": "code",
   "execution_count": null,
   "id": "db67d6ce",
   "metadata": {},
   "outputs": [],
   "source": []
  },
  {
   "cell_type": "code",
   "execution_count": null,
   "id": "47ef9dcc",
   "metadata": {},
   "outputs": [],
   "source": []
  },
  {
   "cell_type": "raw",
   "id": "138c64ce",
   "metadata": {},
   "source": [
    "Q2. What is the difference between properties and descriptors?"
   ]
  },
  {
   "cell_type": "raw",
   "id": "1682be1e",
   "metadata": {},
   "source": [
    "ans: Descriptors are a low-level mechanism that lets us look into an object's attributes being accessed. properties are a high-level application of this. that is,properties are implemented using descriptors."
   ]
  },
  {
   "cell_type": "code",
   "execution_count": null,
   "id": "4396f254",
   "metadata": {},
   "outputs": [],
   "source": []
  },
  {
   "cell_type": "code",
   "execution_count": null,
   "id": "bb9a0ce8",
   "metadata": {},
   "outputs": [],
   "source": []
  },
  {
   "cell_type": "raw",
   "id": "84ae28d0",
   "metadata": {},
   "source": [
    "Q3. What are the key differences in functionality between __getattr__ and __getattribute__, as well as\n",
    "properties and descriptors?"
   ]
  },
  {
   "cell_type": "raw",
   "id": "0c47a7e5",
   "metadata": {},
   "source": [
    "ans: Akey differnce betweeen getattr and getattribute is that getatter is only invoked if the attribute wasn't found the usual ways. it,s good for implementing a fallback for missing attributes and is probably the one of you want."
   ]
  },
  {
   "cell_type": "code",
   "execution_count": null,
   "id": "7b87f272",
   "metadata": {},
   "outputs": [],
   "source": []
  },
  {
   "cell_type": "code",
   "execution_count": null,
   "id": "6a44c6bb",
   "metadata": {},
   "outputs": [],
   "source": []
  }
 ],
 "metadata": {
  "kernelspec": {
   "display_name": "Python 3",
   "language": "python",
   "name": "python3"
  },
  "language_info": {
   "codemirror_mode": {
    "name": "ipython",
    "version": 3
   },
   "file_extension": ".py",
   "mimetype": "text/x-python",
   "name": "python",
   "nbconvert_exporter": "python",
   "pygments_lexer": "ipython3",
   "version": "3.8.8"
  }
 },
 "nbformat": 4,
 "nbformat_minor": 5
}
